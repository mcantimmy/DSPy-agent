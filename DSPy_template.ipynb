{
 "cells": [
  {
   "cell_type": "code",
   "execution_count": 1,
   "metadata": {},
   "outputs": [
    {
     "ename": "ModuleNotFoundError",
     "evalue": "No module named 'dspy'",
     "output_type": "error",
     "traceback": [
      "\u001b[1;31m---------------------------------------------------------------------------\u001b[0m",
      "\u001b[1;31mModuleNotFoundError\u001b[0m                       Traceback (most recent call last)",
      "Cell \u001b[1;32mIn[1], line 1\u001b[0m\n\u001b[1;32m----> 1\u001b[0m \u001b[38;5;28;01mimport\u001b[39;00m \u001b[38;5;21;01mdspy\u001b[39;00m\n\u001b[0;32m      2\u001b[0m \u001b[38;5;28;01mfrom\u001b[39;00m \u001b[38;5;21;01mdspy\u001b[39;00m\u001b[38;5;21;01m.\u001b[39;00m\u001b[38;5;21;01mdatasets\u001b[39;00m\u001b[38;5;21;01m.\u001b[39;00m\u001b[38;5;21;01mgsm8k\u001b[39;00m \u001b[38;5;28;01mimport\u001b[39;00m GSM8K, gsm8k_metric\n\u001b[0;32m      4\u001b[0m \u001b[38;5;66;03m# Set up the LM.\u001b[39;00m\n",
      "\u001b[1;31mModuleNotFoundError\u001b[0m: No module named 'dspy'"
     ]
    }
   ],
   "source": [
    "import dspy\n",
    "from dspy.datasets.gsm8k import GSM8K, gsm8k_metric\n",
    "\n",
    "# Set up the LM.\n",
    "turbo = dspy.OpenAI(model='gpt-3.5-turbo-instruct', max_tokens=250)\n",
    "dspy.settings.configure(lm=turbo)\n",
    "\n",
    "# Load math questions from the GSM8K dataset.\n",
    "gsm8k = GSM8K()\n",
    "gsm8k_trainset, gsm8k_devset = gsm8k.train[:10], gsm8k.dev[:10]\n",
    "\n",
    "print(gsm8k_trainset)"
   ]
  },
  {
   "cell_type": "code",
   "execution_count": 3,
   "metadata": {},
   "outputs": [
    {
     "ename": "NameError",
     "evalue": "name 'dspy' is not defined",
     "output_type": "error",
     "traceback": [
      "\u001b[1;31m---------------------------------------------------------------------------\u001b[0m",
      "\u001b[1;31mNameError\u001b[0m                                 Traceback (most recent call last)",
      "Cell \u001b[1;32mIn[3], line 2\u001b[0m\n\u001b[0;32m      1\u001b[0m qa_pair_list \u001b[38;5;241m=\u001b[39m []\n\u001b[1;32m----> 2\u001b[0m qa_pair_list\u001b[38;5;241m.\u001b[39mappend(\u001b[43mdspy\u001b[49m\u001b[38;5;241m.\u001b[39mExample(question\u001b[38;5;241m=\u001b[39m\u001b[38;5;124m\"\u001b[39m\u001b[38;5;124mThis is a question?\u001b[39m\u001b[38;5;124m\"\u001b[39m, answer\u001b[38;5;241m=\u001b[39m\u001b[38;5;124m\"\u001b[39m\u001b[38;5;124mThis is an answer.\u001b[39m\u001b[38;5;124m\"\u001b[39m)\u001b[38;5;241m.\u001b[39mwith_inputs(\u001b[38;5;124m\"\u001b[39m\u001b[38;5;124mquestion\u001b[39m\u001b[38;5;124m\"\u001b[39m))\n\u001b[0;32m      3\u001b[0m qa_pair_list\u001b[38;5;241m.\u001b[39mappend(dspy\u001b[38;5;241m.\u001b[39mExample(question\u001b[38;5;241m=\u001b[39m\u001b[38;5;124m\"\u001b[39m\u001b[38;5;124mThis is a question?\u001b[39m\u001b[38;5;124m\"\u001b[39m, answer\u001b[38;5;241m=\u001b[39m\u001b[38;5;124m\"\u001b[39m\u001b[38;5;124mThis is an answer.\u001b[39m\u001b[38;5;124m\"\u001b[39m)\u001b[38;5;241m.\u001b[39mwith_inputs(\u001b[38;5;124m\"\u001b[39m\u001b[38;5;124mquestion\u001b[39m\u001b[38;5;124m\"\u001b[39m))\n\u001b[0;32m      4\u001b[0m qa_pair_list\u001b[38;5;241m.\u001b[39mappend(dspy\u001b[38;5;241m.\u001b[39mExample(question\u001b[38;5;241m=\u001b[39m\u001b[38;5;124m\"\u001b[39m\u001b[38;5;124mThis is a question?\u001b[39m\u001b[38;5;124m\"\u001b[39m, answer\u001b[38;5;241m=\u001b[39m\u001b[38;5;124m\"\u001b[39m\u001b[38;5;124mThis is an answer.\u001b[39m\u001b[38;5;124m\"\u001b[39m)\u001b[38;5;241m.\u001b[39mwith_inputs(\u001b[38;5;124m\"\u001b[39m\u001b[38;5;124mquestion\u001b[39m\u001b[38;5;124m\"\u001b[39m))\n",
      "\u001b[1;31mNameError\u001b[0m: name 'dspy' is not defined"
     ]
    }
   ],
   "source": [
    "qa_pair_list = []\n",
    "qa_pair_list.append(dspy.Example(question='''Can you create an agent for cooking?\", answer=\"Agent Name: God King Chef.\n",
    "                                 Description: A master chef.\n",
    "                                 Characteristics: Mean, Precise, Tasteful.\n",
    "                                 Task: Innovating on existing recipes to create cutting-edge, flavorful food that elicits euphoria.''').with_inputs(\"question\"))\n",
    "qa_pair_list.append(dspy.Example(question='''Can you tell me the best bike to buy?\", answer=\"Agent Name: Bicyclist.\n",
    "                                 Description: Knows everything about biking.\n",
    "                                 Characteristics: Lanky, enduring, knowledgable.\n",
    "                                 Task: Knows what to look for and how to look for the best bikes online.\n",
    "                                 Tools: Web search''').with_inputs(\"question\"))\n",
    "qa_pair_list.append(dspy.Example(question='''What is love?\", answer=\"Agent Name: Cupid.\n",
    "                                 Description: Knows what love is.\n",
    "                                 Characteristics: Lovable, empathetic, kind.\n",
    "                                 Task: Tactfully describes love to people scared of heartbreak.''').with_inputs(\"question\"))\n",
    "qa_pair_list.append(dspy.Example(question='''What is the square root of 2?\", answer=\"Agent Name: Terry Tao.\n",
    "                                 Description: The best mathematician.\n",
    "                                 Characteristics: Knowledgable, aware, intelligent.\n",
    "                                 Task: Operates an internal calculator to answer user queries.\n",
    "                                 Tools: Calculator.''').with_inputs(\"question\"))\n",
    "qa_pair_list.append(dspy.Example(question='''Woopy wob bop?\", answer=\"Agent Name: Abstraction.\n",
    "                                 Description: Random object generator.\n",
    "                                 Characteristics: Esoteric, eccentric, exciting.\n",
    "                                 Task: Uses pure abstraction to understand the user query and respond to it in equally convoluted language.''').with_inputs(\"question\"))"
   ]
  },
  {
   "cell_type": "code",
   "execution_count": null,
   "metadata": {},
   "outputs": [],
   "source": [
    "class FactJudge(dspy.Signature):\n",
    "    \"\"\"Judge if the answer is correct based on typical AI agent design and construction.\"\"\"\n",
    "\n",
    "    question = dspy.InputField(desc=\"Question to be answered\")\n",
    "    answer = dspy.InputField(desc=\"Answer for the question\")\n",
    "    factually_correct = dspy.OutputField(desc=\"Is the answer factually correct based on the context?\", prefix=\"Factual[Yes/No]:\")\n",
    "\n",
    "judge = dspy.ChainOfThought(FactJudge)\n",
    "\n",
    "def factuality_metric(example, pred):\n",
    "    factual = judge(question=example.question, answer=pred.answer)\n",
    "    return int(factual==\"Yes\")"
   ]
  },
  {
   "cell_type": "code",
   "execution_count": null,
   "metadata": {},
   "outputs": [],
   "source": [
    "class CoT(dspy.Module):\n",
    "    def __init__(self):\n",
    "        super().__init__()\n",
    "        self.prog = dspy.ChainOfThought(\"question -> answer\")\n",
    "    \n",
    "    def forward(self, question):\n",
    "        return self.prog(question=question)\n",
    "    \n",
    "    from dspy.teleprompt import BootstrapFewShot\n",
    "\n",
    "# Set up the optimizer: we want to \"bootstrap\" (i.e., self-generate) 4-shot examples of our CoT program.\n",
    "config = dict(max_bootstrapped_demos=4, max_labeled_demos=4)\n",
    "\n",
    "# Optimize! Use the `gsm8k_metric` here. In general, the metric is going to tell the optimizer how well it's doing.\n",
    "teleprompter = BootstrapFewShot(metric=gsm8k_metric, **config)\n",
    "optimized_cot = teleprompter.compile(CoT(), trainset=gsm8k_trainset)\n",
    "\n",
    "from dspy.evaluate import Evaluate\n",
    "\n",
    "# Set up the evaluator, which can be used multiple times.\n",
    "evaluate = Evaluate(devset=gsm8k_devset, metric=factuality_metric, num_threads=4, display_progress=True, display_table=0)\n",
    "\n",
    "# Evaluate our `optimized_cot` program.\n",
    "evaluate(optimized_cot)"
   ]
  },
  {
   "cell_type": "code",
   "execution_count": null,
   "metadata": {},
   "outputs": [],
   "source": [
    "turbo.inspect_history(n=1)"
   ]
  },
  {
   "cell_type": "code",
   "execution_count": null,
   "metadata": {},
   "outputs": [],
   "source": [
    "optimized_cot(question='Create a framework for specific AI assistant agents. Make sure the agent can search the web. Use the most up to date code and techniques.')"
   ]
  }
 ],
 "metadata": {
  "kernelspec": {
   "display_name": "Python 3",
   "language": "python",
   "name": "python3"
  },
  "language_info": {
   "codemirror_mode": {
    "name": "ipython",
    "version": 3
   },
   "file_extension": ".py",
   "mimetype": "text/x-python",
   "name": "python",
   "nbconvert_exporter": "python",
   "pygments_lexer": "ipython3",
   "version": "3.10.11"
  }
 },
 "nbformat": 4,
 "nbformat_minor": 2
}
